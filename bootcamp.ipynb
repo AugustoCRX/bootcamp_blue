{
  "cells": [
    {
      "cell_type": "code",
      "execution_count": null,
      "metadata": {
        "id": "Hi9D5wpRbfNr"
      },
      "outputs": [],
      "source": [
        "import random\n",
        "import numpy as np\n",
        "import pandas as pd\n",
        "\n",
        "train = pd.read_csv('train.tsv', sep = '\\t')\n",
        "test = pd.read_csv('test.tsv', sep = '\\t')\n",
        "\n",
        "def data(n, seed):\n",
        "\n",
        "    datas = []\n",
        "    \n",
        "    random.seed(seed)\n",
        "    for i in range(n):\n",
        "        dia_maximo = 30\n",
        "        dia_minimo = 1\n",
        "        mes_maximo = 12\n",
        "        mes_minimo = 1\n",
        "        \n",
        "        dia = int(random.random() * (dia_maximo - dia_minimo) + dia_minimo)\n",
        "        mes = int(random.random() * (mes_maximo - mes_minimo) + mes_minimo)\n",
        "        \n",
        "        datas.append(str(dia)+'-'+str(mes)+'-2018')\n",
        "        \n",
        "    return datas\n",
        "\n",
        "def estoque(n, seed):\n",
        "\n",
        "    np.random.seed(seed)\n",
        "    mu, sigma = 1, 20\n",
        "    s = np.random.normal(mu, sigma, n)\n",
        "    s[s < 0] = s[s < 0] * -0.5\n",
        "    s = s.astype(int)\n",
        "    s[s < 1] = 1\n",
        "    \n",
        "    return s\n",
        "\n",
        "train['date']  = data(n = train.shape[0], seed = 10)\n",
        "train['stock'] = estoque(n = train.shape[0], seed = 10)\n",
        "\n",
        "test['date']  = data(n = test.shape[0], seed = 15)\n",
        "test['stock'] = estoque(n = test.shape[0], seed = 15)"
      ]
    },
    {
      "cell_type": "markdown",
      "metadata": {
        "id": "uf-Ulv2jbfNw"
      },
      "source": [
        "| Nome da coluna | Descrição |\n",
        "| :----: | :----: |\n",
        "| test_id | Numero identificador dos itens da lista |\n",
        "| name | Titulo da lista*|\n",
        "| item_condition_id | Numero da condição do item, varia de 1 a 5, sendo 1 a pior e 5 a melhor |\n",
        "| category_name | Categorias da lista |\n",
        "| brand_name | Nome da marca do item (existe nulos) |\n",
        "| price | Preço do produto |\n",
        "| shipping | Taxa de envio, pago por: 1 - pelo vendedor 0 - pelo comprador |\n",
        "| item_description | Descrição completa do item* |\n",
        "| date | Data |\n",
        "| stock | Estoque |\n",
        "\n",
        "*¹- Nessas colunas existe um valor chamado [rm], esse valor significa \"removed\" ou removido, significa que o preço (exemplo: $20) foi removido."
      ]
    },
    {
      "cell_type": "code",
      "execution_count": null,
      "metadata": {
        "id": "DjM-0U9CbfNy"
      },
      "outputs": [],
      "source": [
        "#o rm também foi adicionado em descrições completas, visualizar arquivo fixado no discord"
      ]
    },
    {
      "cell_type": "code",
      "execution_count": null,
      "metadata": {
        "id": "u0cLcri7bfNz"
      },
      "outputs": [],
      "source": [
        "#existem valores repitidos na coluna brand_name (exemplo: adidas e adidas NEO, as duas são a mesma coisa)\n",
        "#necessário tratar esses dados"
      ]
    },
    {
      "cell_type": "code",
      "execution_count": null,
      "metadata": {
        "id": "_h6jHWGNbfNz"
      },
      "outputs": [],
      "source": [
        "train_vis = train[0:1000]\n",
        "test_vis = test[0:1000]"
      ]
    },
    {
      "cell_type": "code",
      "execution_count": null,
      "metadata": {
        "id": "9NrzAFhwbfN0"
      },
      "outputs": [],
      "source": [
        "test1 = train.query(\"name == '[rm]'\")"
      ]
    },
    {
      "cell_type": "code",
      "execution_count": null,
      "metadata": {
        "id": "QmDt_wRYbfN0"
      },
      "outputs": [],
      "source": [
        "test2 = train.query(\"item_description == '[rm]'\")"
      ]
    },
    {
      "cell_type": "code",
      "execution_count": null,
      "metadata": {
        "id": "2SA3nL-4bfN1",
        "outputId": "dc0ff52a-6e33-4735-86c8-e18af6d20bd7"
      },
      "outputs": [
        {
          "data": {
            "text/plain": [
              "1    640549\n",
              "3    432161\n",
              "2    375479\n",
              "4     31962\n",
              "5      2384\n",
              "Name: item_condition_id, dtype: int64"
            ]
          },
          "execution_count": 6,
          "metadata": {},
          "output_type": "execute_result"
        }
      ],
      "source": [
        "train['item_condition_id'].value_counts()"
      ]
    },
    {
      "cell_type": "code",
      "execution_count": null,
      "metadata": {
        "id": "PapgtTiQbfN2"
      },
      "outputs": [],
      "source": [
        "#category_name\n",
        "#lista de categorias do nome da lista\n",
        "#divido por caracteres especiais\n",
        "#necessário limpeza para avaliação, talvez dividir em lista ou dummmies?"
      ]
    },
    {
      "cell_type": "code",
      "execution_count": null,
      "metadata": {
        "id": "HBi-YRXLbfN3",
        "outputId": "6176d2b5-02d7-4ebd-d3d6-708de617c754"
      },
      "outputs": [
        {
          "data": {
            "text/plain": [
              "(1482535, 10)"
            ]
          },
          "execution_count": 9,
          "metadata": {},
          "output_type": "execute_result"
        }
      ],
      "source": [
        "train.shape"
      ]
    },
    {
      "cell_type": "code",
      "execution_count": null,
      "metadata": {
        "id": "APaePSycbfN3",
        "outputId": "9b9e41be-937c-4d9b-bea5-ca9c64d85bb3"
      },
      "outputs": [
        {
          "data": {
            "text/plain": [
              "(4810,)"
            ]
          },
          "execution_count": 23,
          "metadata": {},
          "output_type": "execute_result"
        }
      ],
      "source": [
        "test_array = train['brand_name'].drop_duplicates().unique()\n",
        "train['brand_name'].unique().shape"
      ]
    },
    {
      "cell_type": "code",
      "execution_count": null,
      "metadata": {
        "id": "w7E_4wHxbfN4",
        "outputId": "669143fc-c86d-4719-e15f-a689fe09c5b6"
      },
      "outputs": [
        {
          "name": "stdout",
          "output_type": "stream",
          "text": [
            "<class 'pandas.core.frame.DataFrame'>\n",
            "RangeIndex: 1482535 entries, 0 to 1482534\n",
            "Data columns (total 10 columns):\n",
            " #   Column             Non-Null Count    Dtype  \n",
            "---  ------             --------------    -----  \n",
            " 0   train_id           1482535 non-null  int64  \n",
            " 1   name               1482535 non-null  object \n",
            " 2   item_condition_id  1482535 non-null  int64  \n",
            " 3   category_name      1476208 non-null  object \n",
            " 4   brand_name         849853 non-null   object \n",
            " 5   price              1482535 non-null  float64\n",
            " 6   shipping           1482535 non-null  int64  \n",
            " 7   item_description   1482531 non-null  object \n",
            " 8   date               1482535 non-null  object \n",
            " 9   stock              1482535 non-null  int32  \n",
            "dtypes: float64(1), int32(1), int64(3), object(5)\n",
            "memory usage: 107.5+ MB\n"
          ]
        }
      ],
      "source": [
        "train.info()    "
      ]
    },
    {
      "cell_type": "code",
      "execution_count": null,
      "metadata": {
        "id": "XD6lxPNybfN4"
      },
      "outputs": [],
      "source": [
        "# Remove special caracters from a list and return itself\n",
        "def remove_especial_caracters(dataframe_column):\n",
        "    complete_array = []\n",
        "    for n in range(len(dataframe_column)):\n",
        "        array = re.split('/|&', str(dataframe_column[n]))\n",
        "        for i in range(len(array)):\n",
        "            x = str(array[i])\n",
        "            y = re.findall('\\w', x)\n",
        "            sentence = ''.join(y)\n",
        "            complete_array.append(sentence)\n",
        "    return complete_array\n",
        "\n",
        "train_frame = remove_especial_caracters(train['category_name'])\n",
        "test_frame = remove_especial_caracters(test['category_name'])\n",
        "\n",
        "unique, counts = np.unique(test_frame, return_counts=True)\n",
        "frame = pd.DataFrame(np.stack((unique, counts), axis = 1), columns= ['Category name', 'Count']).sort_values(by=['Count'], ascending = False)"
      ]
    }
  ],
  "metadata": {
    "kernelspec": {
      "display_name": "Python 3.9.12 ('base')",
      "language": "python",
      "name": "python3"
    },
    "language_info": {
      "codemirror_mode": {
        "name": "ipython",
        "version": 3
      },
      "file_extension": ".py",
      "mimetype": "text/x-python",
      "name": "python",
      "nbconvert_exporter": "python",
      "pygments_lexer": "ipython3",
      "version": "3.9.12"
    },
    "orig_nbformat": 4,
    "vscode": {
      "interpreter": {
        "hash": "7758e92e9a61d7a3490898707f7eeb937c85e9d1e8d4e877cc6c187218f226d5"
      }
    },
    "colab": {
      "provenance": []
    }
  },
  "nbformat": 4,
  "nbformat_minor": 0
}