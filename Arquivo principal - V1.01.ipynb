{
  "cells": [
    {
      "cell_type": "code",
      "execution_count": 1,
      "metadata": {
        "id": "Hi9D5wpRbfNr"
      },
      "outputs": [],
      "source": [
        "import random\n",
        "import numpy as np\n",
        "import pandas as pd\n",
        "import re\n",
        "\n",
        "def export_dataset():\n",
        "    #Lista de links (arquivos estão dentro do Google Sheets)\n",
        "    #Foi necessário criar vários arquivos arquivos por conta do tamanho dos arquivos e o google sheets estava apresentando problemas de memória\n",
        "    test_links = {\n",
        "        'link_01': 'https://docs.google.com/spreadsheets/d/e/2PACX-1vQvClyfCtk8JD82zXYSipnN7iCJ0XG0V-z6tcII_14W7tQYPpLLOK45kKWLQf8TBfyRNhH9mlEXiowR/pub?output=csv',\n",
        "        'link_02': 'https://docs.google.com/spreadsheets/d/e/2PACX-1vQq0fLn7Dkg0-Lg2i9FUD0iL-xLVHn1Gtorx8wLlA7flMftChIJf_PXgziaHshCnxlX52bZJZ2EKFsu/pub?output=csv'\n",
        "    }\n",
        "    train_links ={\n",
        "        'link_01':'https://docs.google.com/spreadsheets/d/e/2PACX-1vS2E4FyELPrgf1rPIeyh4lzQTOtftYYK6vyr7m5TN7cYDZTo4tLy1jZQ06mnnwo0NrJ5ZR5IOm2-ndN/pub?output=csv',\n",
        "        'link_02':'https://docs.google.com/spreadsheets/d/e/2PACX-1vT-NHTDb71tp400NvyVObenotd8uUATgPgl4nlGwvqpwTTMoCmc8bH7YmyvmzBg_TcIAxoNkC0upfoe/pub?output=csv',       \n",
        "        'link_03':'https://docs.google.com/spreadsheets/d/e/2PACX-1vQux2yo8RJg5YdLAF7t7iOv1e22RLqp7INPPrQkqDdJVzkbkdJl2QQGiW_KWtnw8mxhbxXu6wgV9N-2/pub?output=csv',\n",
        "        'link_04':'https://docs.google.com/spreadsheets/d/e/2PACX-1vTFoYy6F6IuVXBhhGazTbuu5LUqItSrOYh88SPj41JjAtKckTyrtygOH7ePKIKJfN80o_7sNPip5UaG/pub?output=csv',\n",
        "        'link_05':'https://docs.google.com/spreadsheets/d/e/2PACX-1vTooCcyaoXnkazJ6HI95oc-Ll45cMY4qnjh6iIa9HVJfhTej2z9EBDVVHgplEhqLfegmeucud1mXMhS/pub?output=csv'\n",
        "    }\n",
        "   \n",
        "    #Download e leitura do arquivo de treinamento\n",
        "    temp_df_test = pd.DataFrame()\n",
        "    for i in test_links:\n",
        "        file_temp = pd.read_csv(test_links[i])\n",
        "        temp_df_test = pd.concat([temp_df_test,file_temp]) \n",
        "    temp_df_test.reset_index(drop=True, inplace=True)\n",
        "    temp_df_test.drop('Unnamed: 0',axis=1, inplace= True)\n",
        "\n",
        "    #Download e leitura do arquivo de teste\n",
        "    temp_df_train = pd.DataFrame()\n",
        "    for i in train_links:\n",
        "        file_temp = pd.read_csv(train_links[i])\n",
        "        temp_df_train = pd.concat([temp_df_train,file_temp]) \n",
        "    temp_df_train.reset_index(drop=True, inplace=True)\n",
        "    temp_df_train.drop('Unnamed: 0',axis=1, inplace= True)    \n",
        "    \n",
        "    return temp_df_test, temp_df_train\n",
        "\n",
        "test, train = export_dataset()"
      ]
    },
    {
      "cell_type": "markdown",
      "metadata": {
        "id": "uf-Ulv2jbfNw"
      },
      "source": [
        "| Nome da coluna | Descrição |\n",
        "| :----: | :----: |\n",
        "| test_id | Numero identificador dos itens da lista |\n",
        "| name | Titulo da lista*|\n",
        "| item_condition_id | Numero da condição do item, varia de 1 a 5, sendo 1 a pior e 5 a melhor |\n",
        "| category_name | Categorias da lista |\n",
        "| brand_name | Nome da marca do item (existe nulos) |\n",
        "| price | Preço do produto |\n",
        "| shipping | Taxa de envio, pago por: 1 - pelo vendedor 0 - pelo comprador |\n",
        "| item_description | Descrição completa do item* |\n",
        "| date | Data |\n",
        "| stock | Estoque |\n",
        "\n",
        "*¹- Nessas colunas existe um valor chamado [rm], esse valor significa \"removed\" ou removido, significa que o preço (exemplo: $20) foi removido."
      ]
    },
    {
      "cell_type": "code",
      "execution_count": 2,
      "metadata": {
        "id": "DjM-0U9CbfNy"
      },
      "outputs": [],
      "source": [
        "#o rm também foi adicionado em descrições completas, visualizar arquivo fixado no discord"
      ]
    },
    {
      "cell_type": "code",
      "execution_count": 3,
      "metadata": {
        "id": "u0cLcri7bfNz"
      },
      "outputs": [],
      "source": [
        "#existem valores repitidos na coluna brand_name (exemplo: adidas e adidas NEO, as duas são a mesma coisa)\n",
        "#necessário tratar esses dados"
      ]
    },
    {
      "cell_type": "code",
      "execution_count": 4,
      "metadata": {
        "id": "_h6jHWGNbfNz"
      },
      "outputs": [],
      "source": [
        "train_vis = train[0:1000]\n",
        "test_vis = test[0:1000]"
      ]
    },
    {
      "cell_type": "code",
      "execution_count": 5,
      "metadata": {
        "id": "9NrzAFhwbfN0"
      },
      "outputs": [],
      "source": [
        "test1 = train.query(\"name == '[rm]'\")"
      ]
    },
    {
      "cell_type": "code",
      "execution_count": 6,
      "metadata": {
        "id": "QmDt_wRYbfN0"
      },
      "outputs": [],
      "source": [
        "test2 = train.query(\"item_description == '[rm]'\")"
      ]
    },
    {
      "cell_type": "code",
      "execution_count": 7,
      "metadata": {
        "id": "2SA3nL-4bfN1",
        "outputId": "dc0ff52a-6e33-4735-86c8-e18af6d20bd7"
      },
      "outputs": [
        {
          "data": {
            "text/plain": [
              "1    640549\n",
              "3    432161\n",
              "2    375479\n",
              "4     31962\n",
              "5      2384\n",
              "Name: item_condition_id, dtype: int64"
            ]
          },
          "execution_count": 7,
          "metadata": {},
          "output_type": "execute_result"
        }
      ],
      "source": [
        "train['item_condition_id'].value_counts()"
      ]
    },
    {
      "cell_type": "code",
      "execution_count": 8,
      "metadata": {
        "id": "PapgtTiQbfN2"
      },
      "outputs": [],
      "source": [
        "#category_name\n",
        "#lista de categorias do nome da lista\n",
        "#divido por caracteres especiais\n",
        "#necessário limpeza para avaliação, talvez dividir em lista ou dummmies?"
      ]
    },
    {
      "cell_type": "code",
      "execution_count": 9,
      "metadata": {
        "id": "HBi-YRXLbfN3",
        "outputId": "6176d2b5-02d7-4ebd-d3d6-708de617c754"
      },
      "outputs": [
        {
          "data": {
            "text/plain": [
              "(1482535, 10)"
            ]
          },
          "execution_count": 9,
          "metadata": {},
          "output_type": "execute_result"
        }
      ],
      "source": [
        "train.shape"
      ]
    },
    {
      "cell_type": "code",
      "execution_count": 10,
      "metadata": {
        "id": "APaePSycbfN3",
        "outputId": "9b9e41be-937c-4d9b-bea5-ca9c64d85bb3"
      },
      "outputs": [
        {
          "data": {
            "text/plain": [
              "(4810,)"
            ]
          },
          "execution_count": 10,
          "metadata": {},
          "output_type": "execute_result"
        }
      ],
      "source": [
        "test_array = train['brand_name'].drop_duplicates().unique()\n",
        "train['brand_name'].unique().shape"
      ]
    },
    {
      "cell_type": "code",
      "execution_count": 11,
      "metadata": {
        "id": "w7E_4wHxbfN4",
        "outputId": "669143fc-c86d-4719-e15f-a689fe09c5b6"
      },
      "outputs": [
        {
          "name": "stdout",
          "output_type": "stream",
          "text": [
            "<class 'pandas.core.frame.DataFrame'>\n",
            "RangeIndex: 1482535 entries, 0 to 1482534\n",
            "Data columns (total 10 columns):\n",
            " #   Column             Non-Null Count    Dtype \n",
            "---  ------             --------------    ----- \n",
            " 0   train_id           1482535 non-null  int64 \n",
            " 1   name               1482535 non-null  object\n",
            " 2   item_condition_id  1482535 non-null  int64 \n",
            " 3   category_name      1476208 non-null  object\n",
            " 4   brand_name         849853 non-null   object\n",
            " 5   price              1482535 non-null  object\n",
            " 6   shipping           1482535 non-null  int64 \n",
            " 7   item_description   1482531 non-null  object\n",
            " 8   date               1482535 non-null  object\n",
            " 9   stock              1482535 non-null  int64 \n",
            "dtypes: int64(4), object(6)\n",
            "memory usage: 113.1+ MB\n"
          ]
        }
      ],
      "source": [
        "train.info()    "
      ]
    },
    {
      "cell_type": "code",
      "execution_count": 12,
      "metadata": {
        "id": "P3FgNuJyiiXw"
      },
      "outputs": [],
      "source": [
        "# Remove special caracters from a list and return itself\n",
        "def remove_especial_caracters(dataframe_column):\n",
        "    complete_array = []\n",
        "    for n in range(len(dataframe_column)):\n",
        "        array = str(dataframe_column[n]).split('/')\n",
        "        for i in range(len(array)):\n",
        "            x = str(array[i])\n",
        "            complete_array.append(x)\n",
        "    return complete_array\n",
        "\n",
        "train_frame = remove_especial_caracters(train['category_name'])\n",
        "test_frame = remove_especial_caracters(test['category_name'])\n",
        "\n",
        "unique, counts = np.unique(test_frame, return_counts=True)\n",
        "frame = pd.DataFrame(np.stack((unique, counts), axis = 1), columns= ['Category name', 'Count'])"
      ]
    },
    {
      "cell_type": "code",
      "execution_count": 13,
      "metadata": {
        "id": "PU4vpLJtigoZ"
      },
      "outputs": [],
      "source": [
        "frame['Count'] = pd.to_numeric(frame['Count'])\n",
        "\n",
        "frame.sort_values(by=['Count'], inplace=True, ascending = False)"
      ]
    },
    {
      "cell_type": "code",
      "execution_count": 14,
      "metadata": {
        "id": "Vp-vXZo_idc4"
      },
      "outputs": [
        {
          "data": {
            "text/html": [
              "<div>\n",
              "<style scoped>\n",
              "    .dataframe tbody tr th:only-of-type {\n",
              "        vertical-align: middle;\n",
              "    }\n",
              "\n",
              "    .dataframe tbody tr th {\n",
              "        vertical-align: top;\n",
              "    }\n",
              "\n",
              "    .dataframe thead th {\n",
              "        text-align: right;\n",
              "    }\n",
              "</style>\n",
              "<table border=\"1\" class=\"dataframe\">\n",
              "  <thead>\n",
              "    <tr style=\"text-align: right;\">\n",
              "      <th></th>\n",
              "      <th>Category name</th>\n",
              "      <th>Count</th>\n",
              "    </tr>\n",
              "  </thead>\n",
              "  <tbody>\n",
              "    <tr>\n",
              "      <th>898</th>\n",
              "      <td>Women</td>\n",
              "      <td>319042</td>\n",
              "    </tr>\n",
              "    <tr>\n",
              "      <th>80</th>\n",
              "      <td>Beauty</td>\n",
              "      <td>97265</td>\n",
              "    </tr>\n",
              "    <tr>\n",
              "      <th>463</th>\n",
              "      <td>Kids</td>\n",
              "      <td>80299</td>\n",
              "    </tr>\n",
              "    <tr>\n",
              "      <th>34</th>\n",
              "      <td>Athletic Apparel</td>\n",
              "      <td>62669</td>\n",
              "    </tr>\n",
              "    <tr>\n",
              "      <th>721</th>\n",
              "      <td>Shoes</td>\n",
              "      <td>61731</td>\n",
              "    </tr>\n",
              "    <tr>\n",
              "      <th>...</th>\n",
              "      <td>...</td>\n",
              "      <td>...</td>\n",
              "    </tr>\n",
              "    <tr>\n",
              "      <th>251</th>\n",
              "      <td>Daily &amp; Travel items</td>\n",
              "      <td>5406</td>\n",
              "    </tr>\n",
              "    <tr>\n",
              "      <th>575</th>\n",
              "      <td>One-Pieces</td>\n",
              "      <td>5390</td>\n",
              "    </tr>\n",
              "    <tr>\n",
              "      <th>684</th>\n",
              "      <td>Rings</td>\n",
              "      <td>5121</td>\n",
              "    </tr>\n",
              "    <tr>\n",
              "      <th>731</th>\n",
              "      <td>Skirts</td>\n",
              "      <td>5029</td>\n",
              "    </tr>\n",
              "    <tr>\n",
              "      <th>221</th>\n",
              "      <td>Collectibles</td>\n",
              "      <td>5025</td>\n",
              "    </tr>\n",
              "  </tbody>\n",
              "</table>\n",
              "<p>78 rows × 2 columns</p>\n",
              "</div>"
            ],
            "text/plain": [
              "            Category name   Count\n",
              "898                 Women  319042\n",
              "80                 Beauty   97265\n",
              "463                  Kids   80299\n",
              "34       Athletic Apparel   62669\n",
              "721                 Shoes   61731\n",
              "..                    ...     ...\n",
              "251  Daily & Travel items    5406\n",
              "575            One-Pieces    5390\n",
              "684                 Rings    5121\n",
              "731                Skirts    5029\n",
              "221          Collectibles    5025\n",
              "\n",
              "[78 rows x 2 columns]"
            ]
          },
          "execution_count": 14,
          "metadata": {},
          "output_type": "execute_result"
        }
      ],
      "source": [
        "frame.loc[frame['Count']>5000]"
      ]
    },
    {
      "cell_type": "code",
      "execution_count": 15,
      "metadata": {
        "id": "dfN_q11ficzi"
      },
      "outputs": [
        {
          "name": "stdout",
          "output_type": "stream",
          "text": [
            "['Women' 'Beauty' 'Kids' 'Athletic Apparel' 'Shoes' 'Electronics' 'Makeup'\n",
            " 'Other' 'Tops & Blouses' 'Men' 'Home' 'Jewelry' 'Pants, Tights, Leggings'\n",
            " 'Toys' 'Dresses' 'Cell Phones & Accessories' 'Face' 'T-Shirts'\n",
            " 'Vintage & Collectibles' \"Women's Handbags\" \"Women's Accessories\" 'Jeans'\n",
            " 'Video Games & Consoles' 'Sweaters' 'Underwear' 'Lips' 'Games' 'Handmade'\n",
            " 'Skin Care' 'Athletic' 'Eyes' 'Sports & Outdoors' 'Home Décor'\n",
            " 'Coats & Jackets' 'Fragrance' 'Cases, Covers & Skins' 'Shorts'\n",
            " 'Kitchen & Dining' 'Bras' 'Tops' 'Tank, Cami' 'Swimwear' 'Blouse'\n",
            " 'Above Knee, Mini' 'Boots' 'Necklaces' 'Makeup Palettes'\n",
            " \"Men's Accessories\" 'Girls 2T-5T' 'Accessories' 'Girls 0-24 Mos'\n",
            " 'Shirts & Tops' 'Girls (4+)' 'Shoulder Bag' 'Fashion Sneakers' 'T-shirts'\n",
            " 'Sandals' 'Boys 0-24 Mos' 'Tops & T-Shirts' 'Wallets' 'Boys (4+)'\n",
            " 'Knee-Length' 'Boys 2T-5T' 'Bracelets' 'Dolls & Accessories'\n",
            " 'Slim, Skinny' 'Home Décor Accents' 'Tools & Accessories' 'Two-Piece'\n",
            " 'Action Figures & Statues' 'Hats' 'Media' 'Earrings'\n",
            " 'Daily & Travel items' 'One-Pieces' 'Rings' 'Skirts' 'Collectibles'\n",
            " 'Office supplies' 'Body' 'Cell Phone Accessories'\n",
            " 'Coffee & Tea Accessories' 'Hooded' 'Jackets' 'Pants' 'Totes & Shoppers'\n",
            " 'Sunglasses' 'TV, Audio & Surveillance' 'Messenger & Crossbody'\n",
            " 'Sports Bras' 'Cell Phones & Smartphones' 'Panties' 'Cardigan' 'Clothing'\n",
            " 'Sweats & Hoodies' 'Crewneck' 'Tunic' 'Exercise' 'Books' 'Toy' 'Watches'\n",
            " 'Hair Care' 'DVD' 'Bath & Body' 'Bottoms' 'Pumps' 'Computers & Tablets'\n",
            " 'Makeup Brushes & Tools' 'Boot Cut' 'Arts & Crafts' 'Leggings'\n",
            " 'Trading Cards' 'nan' 'Tracksuits & Sweats' 'Paper Goods' 'Fan Shop'\n",
            " 'Bags and Purses' 'Nails' 'Antique' 'Bath' 'Makeup Sets'\n",
            " 'Stuffed Animals & Plush' 'Personal Care' 'Full-Length' 'Bedding' 'Flats'\n",
            " 'Loafers & Slip-Ons' 'Dining & Entertaining' 'Action Figure'\n",
            " 'Hair Accessories' 'Shipping Supplies' 'Seasonal Décor' 'Home Fragrance'\n",
            " 'Socks' 'Backpack Style' 'Headphones' 'Feeding' 'Fitness accessories'\n",
            " 'Outdoors' 'Sticker' 'Consoles' 'Top & T-shirts' 'Cameras & Photography'\n",
            " 'Pet Supplies' 'Jerseys' 'Hair Styling Tools' 'Storage & Organization'\n",
            " 'Hoodie' 'Cosmetic Bags' 'One-Piece' 'Button Down Shirt' 'Diapering'\n",
            " 'Fleece Jacket' 'NFL' 'Maternity' 'Cables & Adapters' 'Knit Top'\n",
            " 'Asymmetrical Hem' 'Literature & Fiction' 'Animation' 'Straight, Pencil'\n",
            " 'Full Zip' 'Tablet' 'iPad' 'Apparel' 'Gear' 'Windbreaker'\n",
            " 'Sweatshirt, Pullover' 'Candles & Home Scents' 'Maxi' 'Sports'\n",
            " 'Health Care' 'Hobbies' 'Mini' 'Vest' 'Home Appliances' 'Lingerie'\n",
            " 'Scarves & Wraps' 'Dogs' 'Casual Pants' 'Belts' 'Brushes & Applicators'\n",
            " 'Automotive' 'Styling Products' 'Kitchen Utensils & Gadgets'\n",
            " 'Cleaning Supplies' 'Polo, Rugby' 'Candles & Holders' 'Costume' 'Satchel'\n",
            " 'Christmas' 'Keychain' 'Video Game' 'Building Toys' 'Book' 'Blu-Ray'\n",
            " 'Halloween' 'Screen Protectors' 'Team Sports' 'Chargers & Cradles'\n",
            " 'Housewares' 'Portable Audio & Accessories' 'Slippers' 'eBook Readers'\n",
            " 'Backpacks & Carriers' 'Headsets' 'Hiking & Camping'\n",
            " 'Baby & Toddler Toys' 'Glass' 'Button-Front' 'Fitness technology' 'Purse'\n",
            " 'Suits & Blazers' 'G-Strings & Thongs' 'Bottle-Feeding' 'Serving'\n",
            " 'Classic, Straight Leg' 'Laptops & Netbooks' 'School Supplies'\n",
            " 'Shampoo & Conditioner Sets' 'Backpacks, Bags & Briefcases'\n",
            " 'Capris, Cropped' 'Jean Jacket' 'Nursery' 'Household Cleaners'\n",
            " 'Blankets & Throws' 'Jewelry Boxes & Organizers' 'CD'\n",
            " 'Track & Sweat Pants' 'Capri, Cropped' 'Straight Leg' 'Digital Cameras'\n",
            " 'Sports Nutrition' \"Children's Books\" 'Others' 'Children' 'Dress Pants'\n",
            " 'Halter' 'Blazer' 'Figurine' 'Supplies' 'Sweater' 'Education & Teaching'\n",
            " 'Hair & Scalp Treatments' 'Handbag' 'Lanyard' 'Bakeware' 'Artwork' 'Hair'\n",
            " 'Doll' 'Diaper Bags' 'Motorcycle' 'Video Gaming Merchandise' 'Comics'\n",
            " 'Dress Up & Pretend Play' 'Disposable Diapers' 'Skirts, Skorts & Dresses'\n",
            " 'Sets' 'Boys' 'Wine, Beer & Beverage Coolers' 'Learning & Education'\n",
            " 'Camera & Photo Accessories' 'MLB' 'Puffer' 'Gadgets' 'Scrapbooking'\n",
            " 'NCAA' 'Musical instruments' 'Wristlet' 'Beach Accessories'\n",
            " 'eBook Access' 'Charm' 'Toy Remote Control & Play Vehicles' 'Mid-Calf'\n",
            " 'Party Supplies' 'Components & Parts' 'Car Seats & Accessories'\n",
            " 'Film Photography' 'Cover-Ups' 'Pregnancy & Maternity' 'Music' 'V-Neck'\n",
            " 'Kitchen Appliances' 'Mules & Clogs' 'Decorative Pillows' 'Sun'\n",
            " 'Souvenir' 'Sheets & Pillowcases' 'Bathroom Accessories' 'Writing'\n",
            " 'Medical Supplies & Equipment' 'Tumbler' 'Vinyl' 'Mug' 'Boyfriend'\n",
            " 'Pacifiers & Accessories' 'Photo Albums & Frames' 'Electronics for Kids'\n",
            " 'Khakis, Chinos' 'Scrubs & Body Treatments' 'Cleansers'\n",
            " 'Posters & Prints' 'Golf' 'Cloth Diapers' 'A-Line' \"Kids' Home Store\"\n",
            " 'Flare' 'Hands & Nails' 'Patch' 'Bathing & Skin Care' 'Art' 'Home Decor'\n",
            " 'Lamps& Accessories' 'Tapestries' 'Polo Shirt' 'Casual Shorts' 'Corset'\n",
            " 'Puzzles' 'Exterior Accessories' 'Hair Color' 'Peacoat' 'Ceramic' 'Cargo'\n",
            " 'Drives, Storage & Media' 'Storage & Containers' 'Breastfeeding'\n",
            " 'Organization' 'Weddings' 'Military' 'Wrap' 'Baseball & Softball'\n",
            " 'Tools & Equipment' 'Calendars' 'Dance' 'Ballet' 'Car' 'NBA'\n",
            " 'Comforters & Sets' 'Cowl Neck' 'Window Treatments' 'Ink & Toner'\n",
            " 'Cookware' 'Vest, Sleeveless' 'Health & Baby Care' 'Girls' 'Collared'\n",
            " 'Footwear' 'Nail Tools' 'Soccer' 'Car Audio, Video & GPS' 'Trench'\n",
            " 'Bags & Cases' 'Strollers' 'Cleats' 'Pendant' 'Yoga & Pilates' 'Mirrors'\n",
            " 'Safety' 'Poncho' 'Sports & Outdoor Play' 'Dress Shirts' 'Tank'\n",
            " 'Breastfeeding Pillows & Stools' 'Pleated' 'Kitchen & Table Linens'\n",
            " 'Baby' 'Ring' 'Cards' 'Pant Suit' 'Scoop Neck' 'Makeup Remover'\n",
            " \"Kids' Room Décor\" 'Clothing & Closet Storage' 'Ties' 'Air Fresheners'\n",
            " 'Raincoat' 'Football' 'Fishing' 'Conditioners' 'Indoor' 'Outdoor Games'\n",
            " 'Bowl' 'Televisions' 'Skateboard' 'Home Speakers & Subwoofers' 'Necklace'\n",
            " 'Shampoos' 'Brooch' 'Luggage' 'Oxfords' 'Basic Supplies' 'Full Skirt'\n",
            " 'Overalls' 'Holidays' 'VHS' 'Swim Trunks' 'Feet' 'Food'\n",
            " 'Interior Accessories' 'Cup' 'Household Supplies' 'Hobo'\n",
            " 'Turtleneck, Mock' 'Small Appliances' 'Medical Books' 'Styling Tools'\n",
            " 'Networking & Connectivity' 'Relaxed' 'Lights & Lighting Accessories'\n",
            " 'Clutch' 'Car Electronics & Accessories'\n",
            " 'Decorative Pillows, Inserts & Covers' 'Swings, Jumpers & Bouncers'\n",
            " 'Bathing Accessories' 'Flight' 'Bomber' 'Bike & Skate' 'Clocks'\n",
            " 'Religion & Spirituality' 'Family Planning Tests' 'Car Seats' 'Tote'\n",
            " 'Eyewear' 'Wine Accessories' 'Decorations' 'Racks, Shelves & Drawers'\n",
            " 'Electronic' 'Bracelet' 'Parka' 'Golf Apparel' 'Vintage'\n",
            " 'Printers, Scanners & Supplies' 'Pinback Button' 'Wipes & Holders'\n",
            " 'Snowboard' 'Stationery' 'Sci-Fi, Fantasy' 'Gloves' 'Monitors' 'Animal'\n",
            " 'Valentine' 'Batteries' 'Painting' 'Duvet Covers & Sets' 'Sweatercoat'\n",
            " 'Athletic Training' 'Crochet' 'Pets' 'Water Sports' 'Waxing' 'Paintings'\n",
            " 'Turtleneck' 'Baskets' 'Wall Decor' 'DVD & Blu-ray Players' 'Needlecraft'\n",
            " \"Kids' Bedding\" 'Change Purse' \"Men's Golf Clubs\" 'Thermal Underwear'\n",
            " 'Pin' 'Easter' 'Area Rugs & Pads' 'Camera' 'Wool' 'Bottles'\n",
            " 'Washcloths & Towels' 'Baskets & Bins' 'Vacuums & Floor Care' 'Furniture'\n",
            " 'Drawings' 'Christian Books & Bibles' 'Bead' 'Game'\n",
            " 'Water Coolers & Filters' 'Baby Seats' 'Thanksgiving' 'Vases'\n",
            " 'Business & Money' 'Magazines' 'Arts & Photography' 'Wall Hanging'\n",
            " 'Towels' 'Work & Safety' 'Outdoor' 'GPS Units & Equipment' 'Cage'\n",
            " 'Backpack' 'Fabric' 'Bathing Tubs & Seats' 'Stationery & Party Supplies'\n",
            " 'Patterns' 'Kitchen Knives & Cutlery Accessories' 'Novelty & Gag Toys'\n",
            " 'Instrument Accessories' 'Nursery Décor' 'NHL' 'Desktops & All-In-Ones'\n",
            " 'Lifestyle & Cultures' 'Lenses & Filters' 'Guitars' 'Glassware'\n",
            " 'Microphones & Accessories' 'Reference' 'Baby & Child Care' 'Quilts'\n",
            " 'Boxing & MMA' 'Jacket' 'Yarn' 'Tripods & Supports' 'Hat' 'Board Shorts'\n",
            " 'Knitting' 'Science & Math' 'Sewing' 'Basketball' 'Baby Gyms & Playmats'\n",
            " 'Home Surveillance' 'Dress' 'Paper Ephemera' 'Leg Warmers'\n",
            " 'Potty Training' 'Hip Bag' 'Camcorders' 'Pouch' 'Golf Balls'\n",
            " 'Shopping Cart Covers' 'Bed Pillows' 'Strength training'\n",
            " 'Car Stereos & Components' 'Geekery' 'Woodworking' 'Tshirt'\n",
            " 'Knitting Supplies' 'Teething Relief' 'Shrug' 'Shirt' 'Asymmetrical'\n",
            " 'Fans' 'Watch' 'Porcelain' 'Prenatal Monitoring Devices'\n",
            " 'Changing Pads & Covers' 'Motorcycle & Powersports' 'Volleyball' 'Denim'\n",
            " 'Salt and Pepper Shakers' '100 Years or Older' 'Journal'\n",
            " 'Hair Loss Products' 'Toothbrushes' 'Stringed Instruments' 'Epilators'\n",
            " 'Collar' 'Travel Systems' 'Two Button' 'Rainwear' 'Cookbook'\n",
            " 'Tennis & Racquets' 'Print' 'Gift Wrap' 'Biographies & Memoirs'\n",
            " 'Laundry Storage & Organization' 'Snowsuits & Bibs'\n",
            " 'Highchairs & Booster Seats' 'Humidifiers'\n",
            " \"Kids' Furniture, Décor & Storage\" 'Potties & Seats' 'Baguette' 'Fiction'\n",
            " 'Keyboards' 'Lacrosse' 'Magic' 'DJ, Electronic Music & Karaoke'\n",
            " 'Sets & Kits' 'Leather' 'Tweezers' 'Mopping' 'Dress - Flat Front'\n",
            " 'Food Service Equipment & Supplies' 'Corduroys' 'Strategy Guides'\n",
            " 'GPS Accessories & Mounts' 'Suits' 'Mattress Pads' 'Ceramics and Pottery'\n",
            " 'Linen' 'Notebook' 'Home Audio' 'Thermometers' 'Skirt Suit' 'Henley'\n",
            " 'Space Heaters' 'Custom' 'Stamps' 'Blazers & Sport Coats' 'Wide Leg'\n",
            " '50 To 75 Years' 'Diaper Pails & Refills' 'Hockey' 'Track Jacket'\n",
            " 'History' 'Humidifiers & Vaporizers' 'Hawaiian' 'Binoculars & Telescopes'\n",
            " 'Harnesses & Leashes' 'Baggy, Loose' 'Laptop'\n",
            " 'Tricycles, Scooters & Wagons' 'Scarf' 'Garment Steamers' 'Birthday'\n",
            " 'Candles' 'Carpenter' 'Cabochon' 'Teethers' 'Sculptures' 'Personalized'\n",
            " 'Cabinet Locks & Straps' 'Polo' 'Religious' 'Drums & Percussion'\n",
            " 'Wind & Woodwind Instruments' 'Walkers' 'Board, Surf' 'Books and Zines'\n",
            " 'Ornaments' 'Amplifiers & Effects' 'Science' 'Apron' 'Gift Sets' 'Vests'\n",
            " 'Formal' '75 To 100 Years' 'Studio Recording Equipment' 'Buckle'\n",
            " 'Track & Sweat Suits' 'Irons & Ironing Boards' 'Soaps & Cleansers'\n",
            " 'Living Room Furniture' 'Bathroom Storage & Organization'\n",
            " 'Lighting & Studio' 'All Other Sports' 'Cake Toppers'\n",
            " 'Dolls and Miniatures' 'Cape' 'Swim Briefs' 'Playards' 'Paper Towels'\n",
            " 'Tape' 'Car Speakers & Systems' 'Teacup' 'Cross Stitch' 'Magnets'\n",
            " 'Replacement Parts & Tools' 'Car Care' 'Politics & Social Sciences'\n",
            " 'Candle Holder' 'Bedroom Furniture' 'Training Pants' 'Skirt' 'Radio'\n",
            " 'Other Accessories' 'Crafting' 'Outdoor Safety' 'Bowls' 'Paper'\n",
            " 'Pet Lover' 'Favors' 'Air Conditioners' 'Nonfiction' 'Puzzle' 'Planter'\n",
            " 'Printmaking' 'Nasal Aspirators' 'Maternity Pillows' 'Bouquets'\n",
            " 'Bedspreads & Coverlets' 'Coaster' 'Air Purifiers'\n",
            " 'Grooming & Healthcare Kits' 'Bath Rugs' \"Kids' Furniture\" 'Signs'\n",
            " 'Shampoo Plus Conditioner' 'Shawl' 'Kitchen' 'Car Video' 'Box'\n",
            " 'Home Office Furniture' 'Comic' 'Varsity' 'Poetry' 'Baseball'\n",
            " 'Trash Bags' 'Shams, Bed Skirts & Bed Frame Draperies'\n",
            " 'Brass Instruments' 'Wallet' 'Accessory' 'Dress Shorts' 'Embroidery'\n",
            " 'Golf Shoes' 'Plate' 'Lighting' 'Powders & Lotions'\n",
            " 'Automotive Enthusiast Merchandise' 'Instructional' 'Magnet'\n",
            " 'Cream and Sugar Set' 'Dress - Pleat' \"St Patrick's\" 'Shampoo'\n",
            " 'Dress Suit' 'Gates & Doorways' 'Teapot' 'Car Subwoofers' 'Basket' 'Tray'\n",
            " 'Band & Orchestra' 'Inflatable Beds' 'Activity Centers & Entertainers'\n",
            " 'Tires & Wheels' 'Three Button' 'Golf Bags' 'Mixed Media' 'Small Animal'\n",
            " 'Papermaking' 'Bookmark' 'Travel Beds' 'Boating' 'Tiered' 'Postcard'\n",
            " 'Vase' 'Performance Parts & Accessories' 'Leash' 'Refrigerators' 'Block'\n",
            " 'Home Brewing & Wine Making' 'Kitchen Storage & Organization' 'Poster'\n",
            " 'Biography' 'Health' 'Replacement Parts' 'Frame' 'Dusting' 'Slipcovers'\n",
            " 'Sleep Positioners' 'Travel Bathing Kits' 'Gadget' 'Guest Books'\n",
            " 'Pillows' 'Pillow' 'Other Furniture' 'Bubble' 'Case' 'Photography'\n",
            " 'Telephone' 'Instrument' 'Lightweight' 'Peasant' 'Joggers' 'One Button'\n",
            " 'Miniature' 'Finding' 'Washers & Dryers' 'Flashes & Flash Accessories'\n",
            " 'Pattern' 'Garage Storage & Organization' 'Compact' 'Blanket' 'Linens'\n",
            " 'Pillows & Stools' 'Dishes' 'Photographs' 'Toiletry Kits'\n",
            " 'Hair Perms & Texturizers' 'Cuff Links' 'How to' 'Beads' 'Graphic Design'\n",
            " 'Trash & Recycling' 'Bed' 'Scale Dollhouse Miniature'\n",
            " 'Home Entertainment Furniture' 'Invitations' 'Tag' 'Patriotic'\n",
            " 'Bath Linen Sets' 'Electrical Safety' 'Plush'\n",
            " 'Lithographs, Etchings & Woodcuts' 'Microwaves' 'Standard'\n",
            " 'Stained Glass' 'Action, Adventure' 'Bubble Bath' 'Button' 'Afghan'\n",
            " \"Kids' Bath\" 'Art Doll' 'Outerwear' 'Bathroom Safety'\n",
            " 'Paint, Body & Trim' 'Sport' 'Calendar' 'Brushes' 'Amigurumi' 'Planters'\n",
            " 'Car Security & Convenience' 'Toddler' 'Bed in a Bag' 'Needlepoint'\n",
            " 'Sponges' 'Belt' 'Handkerchief' 'Diaper Stackers & Caddies'\n",
            " 'Dinnerware Set' 'Sun Protection' 'Doormats' 'Home Bar Furniture'\n",
            " 'Just Married' 'Dehumidifiers' 'New Years' 'Illustration' \"New Year's\"\n",
            " 'Nail Care' 'Bowling' 'Patchwork' 'Album' 'Nursery Bedding' 'Origami'\n",
            " 'Videogame' 'Television' 'Fantasy' 'Decorating' 'Religion'\n",
            " 'Hair Coloring Tools' 'Equipment' 'Presentation' 'Fiber Art' 'Chair'\n",
            " 'Casserole' 'Storage Cabinets' 'Grooming' 'Flatware' 'Tandem' 'Horror'\n",
            " 'Carpenter, Utility' 'Playard Bedding' 'Four Button' 'Diaper Bag'\n",
            " 'Seat Covers' 'Seasonal' 'Double Breasted' 'Rails & Rail Guards'\n",
            " 'Bathroom Furniture Sets' 'Bathroom Shelves' 'Bathroom Furniture'\n",
            " 'Office' 'Hair Relaxers' 'Nursery Furniture' 'Educational'\n",
            " 'Track & Field' 'Entertaining' 'Entertainment' 'Rugs' 'Badminton'\n",
            " 'Beading' 'Felted' \"Women's Golf Clubs\" 'Figurines' 'Map' 'Scale Models'\n",
            " 'Garbage Disposals' 'Scifi' 'Advertisement' 'Zipper' 'Mirror'\n",
            " 'Oils & Fluids' 'Bedroom' 'Quilt' 'Carving' 'Cleaning' 'Changing Kits'\n",
            " 'Chain' 'Table' 'Trim' 'Boxes' 'Platter' 'Clock' 'Frames' 'Pitcher'\n",
            " 'Human Figure Doll' 'Humor' 'Illustrated' 'Butter Dish' 'Tuxedo'\n",
            " \"Kids' Flatware\" 'Step Stools' 'Historical, Military' 'Storage' 'Burning'\n",
            " 'Day of the Dead' 'Professional & Trade' 'Primitive' 'Pretend' 'Prams'\n",
            " 'Sweeping' 'Cotton & Swabs' 'Pot Holder' 'Computer' 'Kitchen Safety'\n",
            " 'Portraits' 'Collages' 'Freezers & Ice Makers']\n",
            "count       915\n",
            "unique      915\n",
            "top       Women\n",
            "freq          1\n",
            "Name: Category name, dtype: object\n"
          ]
        },
        {
          "data": {
            "text/html": [
              "<div>\n",
              "<style scoped>\n",
              "    .dataframe tbody tr th:only-of-type {\n",
              "        vertical-align: middle;\n",
              "    }\n",
              "\n",
              "    .dataframe tbody tr th {\n",
              "        vertical-align: top;\n",
              "    }\n",
              "\n",
              "    .dataframe thead th {\n",
              "        text-align: right;\n",
              "    }\n",
              "</style>\n",
              "<table border=\"1\" class=\"dataframe\">\n",
              "  <thead>\n",
              "    <tr style=\"text-align: right;\">\n",
              "      <th></th>\n",
              "      <th>Category name</th>\n",
              "      <th>Count</th>\n",
              "    </tr>\n",
              "  </thead>\n",
              "  <tbody>\n",
              "  </tbody>\n",
              "</table>\n",
              "</div>"
            ],
            "text/plain": [
              "Empty DataFrame\n",
              "Columns: [Category name, Count]\n",
              "Index: []"
            ]
          },
          "metadata": {},
          "output_type": "display_data"
        }
      ],
      "source": [
        "print(frame['Category name'].unique())\n",
        "print(frame['Category name'].describe())\n",
        "display (frame[frame['Category name'].isnull()])"
      ]
    }
  ],
  "metadata": {
    "colab": {
      "provenance": []
    },
    "kernelspec": {
      "display_name": "Python 3.9.12 ('base')",
      "language": "python",
      "name": "python3"
    },
    "language_info": {
      "codemirror_mode": {
        "name": "ipython",
        "version": 3
      },
      "file_extension": ".py",
      "mimetype": "text/x-python",
      "name": "python",
      "nbconvert_exporter": "python",
      "pygments_lexer": "ipython3",
      "version": "3.9.12"
    },
    "orig_nbformat": 4,
    "vscode": {
      "interpreter": {
        "hash": "7758e92e9a61d7a3490898707f7eeb937c85e9d1e8d4e877cc6c187218f226d5"
      }
    }
  },
  "nbformat": 4,
  "nbformat_minor": 0
}
